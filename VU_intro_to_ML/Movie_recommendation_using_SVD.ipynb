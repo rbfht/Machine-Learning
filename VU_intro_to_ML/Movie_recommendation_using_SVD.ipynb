{
 "cells": [
  {
   "cell_type": "code",
   "execution_count": 1,
   "id": "ee7be59b",
   "metadata": {},
   "outputs": [],
   "source": [
    "#The goal is to write a script that given a movie name returns similar movies.\n",
    "\n",
    "#Also, truncate the dataset to top 1000 movies in terms of review count. This should give more robust results."
   ]
  },
  {
   "cell_type": "code",
   "execution_count": 2,
   "id": "b2b848d4",
   "metadata": {},
   "outputs": [],
   "source": [
    "import numpy as np\n",
    "import pandas as pd\n",
    "\n",
    "ratings = pd.read_csv('https://raw.githubusercontent.com/jputrius/ml_intro/refs/heads/main/data/movielens/ratings.csv')\n",
    "movies = pd.read_csv('http://raw.githubusercontent.com/jputrius/ml_intro/refs/heads/main/data/movielens/movies.csv')"
   ]
  },
  {
   "cell_type": "code",
   "execution_count": 47,
   "id": "50a8df2e",
   "metadata": {},
   "outputs": [
    {
     "data": {
      "text/plain": [
       "Index([   356,    318,    296,    593,   2571,    260,    480,    110,    589,\n",
       "          527,\n",
       "       ...\n",
       "       112183,   5945,  93510,   3556,   3638,  68319,   3869,   5574,   3969,\n",
       "       106487],\n",
       "      dtype='int64', name='movieId', length=1000)"
      ]
     },
     "execution_count": 47,
     "metadata": {},
     "output_type": "execute_result"
    }
   ],
   "source": [
    "topid = ratings.groupby(\"movieId\").size().sort_values(ascending=False)[0:1000].index\n",
    "top = movies.set_index(\"movieId\").loc[topid]"
   ]
  },
  {
   "cell_type": "code",
   "execution_count": 35,
   "id": "26083247",
   "metadata": {},
   "outputs": [
    {
     "data": {
      "text/html": [
       "<div>\n",
       "<style scoped>\n",
       "    .dataframe tbody tr th:only-of-type {\n",
       "        vertical-align: middle;\n",
       "    }\n",
       "\n",
       "    .dataframe tbody tr th {\n",
       "        vertical-align: top;\n",
       "    }\n",
       "\n",
       "    .dataframe thead th {\n",
       "        text-align: right;\n",
       "    }\n",
       "</style>\n",
       "<table border=\"1\" class=\"dataframe\">\n",
       "  <thead>\n",
       "    <tr style=\"text-align: right;\">\n",
       "      <th></th>\n",
       "      <th>userId</th>\n",
       "      <th>movieId</th>\n",
       "      <th>rating</th>\n",
       "      <th>timestamp</th>\n",
       "      <th>rating_count</th>\n",
       "    </tr>\n",
       "  </thead>\n",
       "  <tbody>\n",
       "    <tr>\n",
       "      <th>0</th>\n",
       "      <td>1</td>\n",
       "      <td>1</td>\n",
       "      <td>4.0</td>\n",
       "      <td>964982703</td>\n",
       "      <td>215</td>\n",
       "    </tr>\n",
       "    <tr>\n",
       "      <th>1</th>\n",
       "      <td>1</td>\n",
       "      <td>3</td>\n",
       "      <td>4.0</td>\n",
       "      <td>964981247</td>\n",
       "      <td>52</td>\n",
       "    </tr>\n",
       "    <tr>\n",
       "      <th>2</th>\n",
       "      <td>1</td>\n",
       "      <td>6</td>\n",
       "      <td>4.0</td>\n",
       "      <td>964982224</td>\n",
       "      <td>102</td>\n",
       "    </tr>\n",
       "    <tr>\n",
       "      <th>3</th>\n",
       "      <td>1</td>\n",
       "      <td>47</td>\n",
       "      <td>5.0</td>\n",
       "      <td>964983815</td>\n",
       "      <td>203</td>\n",
       "    </tr>\n",
       "    <tr>\n",
       "      <th>4</th>\n",
       "      <td>1</td>\n",
       "      <td>50</td>\n",
       "      <td>5.0</td>\n",
       "      <td>964982931</td>\n",
       "      <td>204</td>\n",
       "    </tr>\n",
       "    <tr>\n",
       "      <th>...</th>\n",
       "      <td>...</td>\n",
       "      <td>...</td>\n",
       "      <td>...</td>\n",
       "      <td>...</td>\n",
       "      <td>...</td>\n",
       "    </tr>\n",
       "    <tr>\n",
       "      <th>100763</th>\n",
       "      <td>610</td>\n",
       "      <td>134853</td>\n",
       "      <td>3.5</td>\n",
       "      <td>1493845106</td>\n",
       "      <td>43</td>\n",
       "    </tr>\n",
       "    <tr>\n",
       "      <th>100780</th>\n",
       "      <td>610</td>\n",
       "      <td>139385</td>\n",
       "      <td>4.5</td>\n",
       "      <td>1493846777</td>\n",
       "      <td>31</td>\n",
       "    </tr>\n",
       "    <tr>\n",
       "      <th>100803</th>\n",
       "      <td>610</td>\n",
       "      <td>148626</td>\n",
       "      <td>4.0</td>\n",
       "      <td>1493847175</td>\n",
       "      <td>26</td>\n",
       "    </tr>\n",
       "    <tr>\n",
       "      <th>100808</th>\n",
       "      <td>610</td>\n",
       "      <td>152081</td>\n",
       "      <td>4.0</td>\n",
       "      <td>1493846503</td>\n",
       "      <td>32</td>\n",
       "    </tr>\n",
       "    <tr>\n",
       "      <th>100830</th>\n",
       "      <td>610</td>\n",
       "      <td>166528</td>\n",
       "      <td>4.0</td>\n",
       "      <td>1493879365</td>\n",
       "      <td>27</td>\n",
       "    </tr>\n",
       "  </tbody>\n",
       "</table>\n",
       "<p>61256 rows × 5 columns</p>\n",
       "</div>"
      ],
      "text/plain": [
       "        userId  movieId  rating   timestamp  rating_count\n",
       "0            1        1     4.0   964982703           215\n",
       "1            1        3     4.0   964981247            52\n",
       "2            1        6     4.0   964982224           102\n",
       "3            1       47     5.0   964983815           203\n",
       "4            1       50     5.0   964982931           204\n",
       "...        ...      ...     ...         ...           ...\n",
       "100763     610   134853     3.5  1493845106            43\n",
       "100780     610   139385     4.5  1493846777            31\n",
       "100803     610   148626     4.0  1493847175            26\n",
       "100808     610   152081     4.0  1493846503            32\n",
       "100830     610   166528     4.0  1493879365            27\n",
       "\n",
       "[61256 rows x 5 columns]"
      ]
     },
     "execution_count": 35,
     "metadata": {},
     "output_type": "execute_result"
    }
   ],
   "source": [
    "ratings = ratings[ratings[\"movieId\"].isin(top.index)]"
   ]
  },
  {
   "cell_type": "code",
   "execution_count": 43,
   "id": "ab6d7138",
   "metadata": {},
   "outputs": [],
   "source": [
    "design = ratings.pivot(index=\"userId\", columns=\"movieId\", values=\"rating\").fillna(2.5)\n",
    "design_centered = design-design.mean()"
   ]
  },
  {
   "cell_type": "code",
   "execution_count": 45,
   "id": "e6d0a795",
   "metadata": {},
   "outputs": [],
   "source": [
    "X = design_centered.to_numpy()\n",
    "U,M,V = np.linalg.svd(X, full_matrices=False)\n",
    "V1 = V[:40].T"
   ]
  },
  {
   "cell_type": "code",
   "execution_count": 52,
   "id": "68666ebf",
   "metadata": {},
   "outputs": [],
   "source": [
    "def recommendations(movie, data):\n",
    "    movieid = top[top[\"title\"]==movie].index[0]\n",
    "    movieidx = np.argwhere(topid==movieid)[0]\n",
    "    movie_to_compare = data[movieidx]\n",
    "    \n",
    "    distance = np.linalg.norm(data - movie_to_compare, axis=1)\n",
    "    similar_ids = topid[distance.argsort()[:10]]\n",
    "    similar_movies = top.loc[similar_ids]\n",
    "    return similar_movies[\"title\"].to_numpy()"
   ]
  },
  {
   "cell_type": "code",
   "execution_count": 53,
   "id": "5bdc8ec8",
   "metadata": {},
   "outputs": [
    {
     "name": "stdout",
     "output_type": "stream",
     "text": [
      "Movies similar to:\n",
      "Toy Story: ['Toy Story (1995)' 'Up (2009)' 'GoldenEye (1995)' 'Aliens (1986)'\n",
      " 'Léon: The Professional (a.k.a. The Professional) (Léon) (1994)'\n",
      " 'Star Trek II: The Wrath of Khan (1982)' 'Disclosure (1994)'\n",
      " 'Four Weddings and a Funeral (1994)' 'Incredibles, The (2004)'\n",
      " 'Fugitive, The (1993)']\n",
      "Iron Man: ['Iron Man (2008)' 'Breakfast Club, The (1985)' 'Clerks (1994)'\n",
      " 'Bourne Identity, The (2002)' 'Dumb & Dumber (Dumb and Dumber) (1994)'\n",
      " 'Star Wars: Episode V - The Empire Strikes Back (1980)'\n",
      " 'Toy Story 2 (1999)' 'Godfather: Part II, The (1974)' 'Babe (1995)'\n",
      " 'Four Weddings and a Funeral (1994)']\n"
     ]
    }
   ],
   "source": [
    "print(f\"Movies similar to:\")\n",
    "print(f\"Toy Story: {recommendations('Toy Story (1995)', V1)}\")\n",
    "print(f\"Iron Man: {recommendations('Iron Man (2008)', V1)}\")"
   ]
  }
 ],
 "metadata": {
  "kernelspec": {
   "display_name": "Python (bioenv)",
   "language": "python",
   "name": "bioenv"
  },
  "language_info": {
   "codemirror_mode": {
    "name": "ipython",
    "version": 3
   },
   "file_extension": ".py",
   "mimetype": "text/x-python",
   "name": "python",
   "nbconvert_exporter": "python",
   "pygments_lexer": "ipython3",
   "version": "3.9.23"
  }
 },
 "nbformat": 4,
 "nbformat_minor": 5
}
