{
 "cells": [
  {
   "cell_type": "code",
   "execution_count": 1,
   "id": "ee7be59b",
   "metadata": {},
   "outputs": [],
   "source": [
    "#The goal is to write a script that given a movie name returns similar movies.\n",
    "\n",
    "#Also, truncate the dataset to top 1000 movies in terms of review count. This should give more robust results."
   ]
  },
  {
   "cell_type": "code",
   "execution_count": 2,
   "id": "b2b848d4",
   "metadata": {},
   "outputs": [],
   "source": [
    "import numpy as np\n",
    "import pandas as pd\n",
    "\n",
    "ratings = pd.read_csv('https://raw.githubusercontent.com/jputrius/ml_intro/refs/heads/main/data/movielens/ratings.csv')\n",
    "movies = pd.read_csv('http://raw.githubusercontent.com/jputrius/ml_intro/refs/heads/main/data/movielens/movies.csv')"
   ]
  },
  {
   "cell_type": "code",
   "execution_count": 3,
   "id": "50a8df2e",
   "metadata": {},
   "outputs": [],
   "source": [
    "topid = ratings.groupby(\"movieId\").size().sort_values(ascending=False)[0:1000].index\n",
    "top = movies.set_index(\"movieId\").loc[topid]"
   ]
  },
  {
   "cell_type": "code",
   "execution_count": 4,
   "id": "26083247",
   "metadata": {},
   "outputs": [],
   "source": [
    "ratings = ratings[ratings[\"movieId\"].isin(top.index)]"
   ]
  },
  {
   "cell_type": "code",
   "execution_count": 5,
   "id": "ab6d7138",
   "metadata": {},
   "outputs": [],
   "source": [
    "design = ratings.pivot(index=\"userId\", columns=\"movieId\", values=\"rating\").fillna(2.5)\n",
    "design_centered = design-design.mean()"
   ]
  },
  {
   "cell_type": "code",
   "execution_count": 6,
   "id": "e6d0a795",
   "metadata": {},
   "outputs": [],
   "source": [
    "X = design_centered.to_numpy()\n",
    "U,M,V = np.linalg.svd(X, full_matrices=False)\n",
    "V1 = V[:40].T"
   ]
  },
  {
   "cell_type": "code",
   "execution_count": 7,
   "id": "68666ebf",
   "metadata": {},
   "outputs": [],
   "source": [
    "def recommendations(movie, data):\n",
    "    movieid = top[top[\"title\"]==movie].index[0]\n",
    "    movieidx = np.argwhere(topid==movieid)[0]\n",
    "    movie_to_compare = data[movieidx]\n",
    "    \n",
    "    distance = np.linalg.norm(data - movie_to_compare, axis=1)\n",
    "    similar_ids = topid[distance.argsort()[:10]]\n",
    "    similar_movies = top.loc[similar_ids]\n",
    "    return similar_movies[\"title\"].to_numpy()"
   ]
  },
  {
   "cell_type": "code",
   "execution_count": 8,
   "id": "5bdc8ec8",
   "metadata": {},
   "outputs": [
    {
     "name": "stdout",
     "output_type": "stream",
     "text": [
      "Movies similar to:\n",
      "Toy Story: ['Toy Story (1995)' \"There's Something About Mary (1998)\"\n",
      " 'GoldenEye (1995)' 'Aliens (1986)'\n",
      " 'Léon: The Professional (a.k.a. The Professional) (Léon) (1994)'\n",
      " 'Abyss, The (1989)' 'Grumpier Old Men (1995)' 'Crimson Tide (1995)'\n",
      " 'Incredibles, The (2004)' 'Fugitive, The (1993)']\n",
      "Iron Man: ['Iron Man (2008)' 'Breakfast Club, The (1985)' 'WALL·E (2008)'\n",
      " 'Net, The (1995)' \"One Flew Over the Cuckoo's Nest (1975)\"\n",
      " 'Star Wars: Episode V - The Empire Strikes Back (1980)'\n",
      " 'Dr. Strangelove or: How I Learned to Stop Worrying and Love the Bomb (1964)'\n",
      " 'Godfather: Part II, The (1974)' 'Babe (1995)' 'Crimson Tide (1995)']\n"
     ]
    }
   ],
   "source": [
    "print(f\"Movies similar to:\")\n",
    "print(f\"Toy Story: {recommendations('Toy Story (1995)', V1)}\")\n",
    "print(f\"Iron Man: {recommendations('Iron Man (2008)', V1)}\")"
   ]
  }
 ],
 "metadata": {
  "kernelspec": {
   "display_name": "Python (bioenv)",
   "language": "python",
   "name": "bioenv"
  },
  "language_info": {
   "codemirror_mode": {
    "name": "ipython",
    "version": 3
   },
   "file_extension": ".py",
   "mimetype": "text/x-python",
   "name": "python",
   "nbconvert_exporter": "python",
   "pygments_lexer": "ipython3",
   "version": "3.9.23"
  }
 },
 "nbformat": 4,
 "nbformat_minor": 5
}
